{
 "cells": [
  {
   "cell_type": "code",
   "execution_count": 1,
   "id": "2b8dcde5",
   "metadata": {},
   "outputs": [],
   "source": [
    "import pandas as pd\n",
    "import numpy as np"
   ]
  },
  {
   "cell_type": "code",
   "execution_count": 2,
   "id": "682b5a24",
   "metadata": {},
   "outputs": [
    {
     "name": "stdout",
     "output_type": "stream",
     "text": [
      "   Fruits  Price  Quantity\n",
      "0   Mango    100        15\n",
      "1  Banana     50        10\n",
      "2   Apple    120        10\n",
      "3  Papaya     35         3\n"
     ]
    }
   ],
   "source": [
    "dict = {\n",
    "    \"Fruits\":[\"Mango\",\"Banana\",\"Apple\",\"Papaya\"],\n",
    "    \"Price\":[100,50,120,35],\n",
    "    \"Quantity\":[15,10,10,3]\n",
    "}\n",
    "\n",
    "df1 = pd.DataFrame(dict)\n",
    "print(df1)"
   ]
  },
  {
   "cell_type": "code",
   "execution_count": 3,
   "id": "6e4d3f0f",
   "metadata": {},
   "outputs": [
    {
     "name": "stdout",
     "output_type": "stream",
     "text": [
      "   Fruits  Price  Quantity\n",
      "0   Mango    120        12\n",
      "1  Banana     55        11\n",
      "2   Apple    120        10\n",
      "3  Papaya     40         5\n"
     ]
    }
   ],
   "source": [
    "df2 = df1.copy()\n",
    "df2.loc[0,\"Price\"] = 120\n",
    "df2.loc[1,\"Price\"] = 55\n",
    "df2.loc[3,\"Price\"] = 40\n",
    "df2.loc[0,\"Quantity\"] = 12\n",
    "df2.loc[1,\"Quantity\"] = 11\n",
    "df2.loc[3,\"Quantity\"] = 5\n",
    "\n",
    "print(df2)\n"
   ]
  },
  {
   "cell_type": "code",
   "execution_count": null,
   "id": "4a6cbe74",
   "metadata": {},
   "outputs": [
    {
     "name": "stdout",
     "output_type": "stream",
     "text": [
      "   Price        Quantity      \n",
      "    self  other     self other\n",
      "0  100.0  120.0     15.0  12.0\n",
      "1   50.0   55.0     10.0  11.0\n",
      "3   35.0   40.0      3.0   5.0\n"
     ]
    }
   ],
   "source": [
    "print(df1.compare(df2))"
   ]
  },
  {
   "cell_type": "code",
   "execution_count": 5,
   "id": "4b06c0c4",
   "metadata": {},
   "outputs": [
    {
     "name": "stdout",
     "output_type": "stream",
     "text": [
      "         Price  Quantity\n",
      "0 self   100.0      15.0\n",
      "  other  120.0      12.0\n",
      "1 self    50.0      10.0\n",
      "  other   55.0      11.0\n",
      "3 self    35.0       3.0\n",
      "  other   40.0       5.0\n"
     ]
    }
   ],
   "source": [
    "print(df1.compare(df2,align_axis= 0))"
   ]
  },
  {
   "cell_type": "code",
   "execution_count": null,
   "id": "6d4556a8",
   "metadata": {},
   "outputs": [],
   "source": []
  }
 ],
 "metadata": {
  "kernelspec": {
   "display_name": "Python 3",
   "language": "python",
   "name": "python3"
  },
  "language_info": {
   "codemirror_mode": {
    "name": "ipython",
    "version": 3
   },
   "file_extension": ".py",
   "mimetype": "text/x-python",
   "name": "python",
   "nbconvert_exporter": "python",
   "pygments_lexer": "ipython3",
   "version": "3.13.3"
  }
 },
 "nbformat": 4,
 "nbformat_minor": 5
}
