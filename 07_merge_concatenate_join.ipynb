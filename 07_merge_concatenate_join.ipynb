{
 "cells": [
  {
   "cell_type": "markdown",
   "id": "881ccc30",
   "metadata": {},
   "source": [
    "## Merge, Join and Concatenate "
   ]
  },
  {
   "cell_type": "code",
   "execution_count": 3,
   "id": "752eebe7",
   "metadata": {},
   "outputs": [],
   "source": [
    "import numpy as np\n",
    "import pandas as pd"
   ]
  },
  {
   "cell_type": "code",
   "execution_count": 6,
   "id": "56bb7b27",
   "metadata": {},
   "outputs": [
    {
     "name": "stdout",
     "output_type": "stream",
     "text": [
      "  Emp ID      Name  Age\n",
      "0    E01     Vashu   19\n",
      "1    E02  Vishakha   18\n",
      "2    E03  Priyansh   20\n",
      "3    E04    Munmun   17\n",
      "4    E05     kittu   15\n",
      "5    E06    namish   12\n",
      "\n",
      "  Emp ID  Salary\n",
      "0    E01   50000\n",
      "1    E02   90000\n",
      "2    E03   80000\n",
      "3    E04  100000\n",
      "4    E05   25000\n",
      "5    E06   20000\n"
     ]
    }
   ],
   "source": [
    "data1 = {\n",
    "    \"Emp ID\":[\"E01\",\"E02\",\"E03\",\"E04\",\"E05\",\"E06\"],\n",
    "    \"Name\":[\"Vashu\",\"Vishakha\",\"Priyansh\",\"Munmun\",\"kittu\",\"namish\"],\n",
    "    \"Age\":[19,18,20,17,15,12]\n",
    "\n",
    "}\n",
    "\n",
    "data2 = {\n",
    "    \"Emp ID\":[\"E01\",\"E02\",\"E03\",\"E04\",\"E05\",\"E06\"],\n",
    "    \"Salary\":[50000,90000,80000,100000,25000,20000]\n",
    "}\n",
    "\n",
    "df1 = pd.DataFrame(data1)\n",
    "df2 = pd.DataFrame(data2)\n",
    "print(df1)\n",
    "print()\n",
    "print(df2)"
   ]
  },
  {
   "cell_type": "markdown",
   "id": "7ac5cfe6",
   "metadata": {},
   "source": [
    "## Merge"
   ]
  },
  {
   "cell_type": "code",
   "execution_count": 7,
   "id": "61940760",
   "metadata": {},
   "outputs": [
    {
     "name": "stdout",
     "output_type": "stream",
     "text": [
      "  Emp ID      Name  Age  Salary\n",
      "0    E01     Vashu   19   50000\n",
      "1    E02  Vishakha   18   90000\n",
      "2    E03  Priyansh   20   80000\n",
      "3    E04    Munmun   17  100000\n",
      "4    E05     kittu   15   25000\n",
      "5    E06    namish   12   20000\n"
     ]
    }
   ],
   "source": [
    "print(pd.merge(df1,df2,on=\"Emp ID\"))"
   ]
  },
  {
   "cell_type": "code",
   "execution_count": 8,
   "id": "6767575f",
   "metadata": {},
   "outputs": [
    {
     "name": "stdout",
     "output_type": "stream",
     "text": [
      "  Emp ID      Name  Age  Salary\n",
      "0    E01     Vashu   19   50000\n",
      "1    E02  Vishakha   18   90000\n",
      "2    E03  Priyansh   20   80000\n",
      "3    E04    Munmun   17  100000\n",
      "4    E05     kittu   15   25000\n",
      "5    E06    namish   12   20000\n"
     ]
    }
   ],
   "source": [
    "print(pd.merge(df1,df2,how=\"left\"))"
   ]
  },
  {
   "cell_type": "code",
   "execution_count": 9,
   "id": "fd0c9d32",
   "metadata": {},
   "outputs": [
    {
     "name": "stdout",
     "output_type": "stream",
     "text": [
      "  Emp ID      Name  Age  Salary\n",
      "0    E01     Vashu   19   50000\n",
      "1    E02  Vishakha   18   90000\n",
      "2    E03  Priyansh   20   80000\n",
      "3    E04    Munmun   17  100000\n",
      "4    E05     kittu   15   25000\n",
      "5    E06    namish   12   20000\n"
     ]
    }
   ],
   "source": [
    "print(pd.merge(df1,df2,how=\"right\"))"
   ]
  },
  {
   "cell_type": "code",
   "execution_count": 11,
   "id": "e863e280",
   "metadata": {},
   "outputs": [
    {
     "name": "stdout",
     "output_type": "stream",
     "text": [
      "  Emp ID      Name  Age\n",
      "0    E01     Vashu   19\n",
      "1    E02  Vishakha   18\n",
      "2    E03  Priyansh   20\n",
      "3    E04    Munmun   17\n",
      "4    E05     kittu   15\n",
      "5    E06    namish   12\n",
      "\n",
      "  Emp ID     Name  Age\n",
      "0    E07   Ashwin   11\n",
      "1    E08    Arjun   16\n",
      "2    E09     vish   21\n",
      "3    E10    Mannu    8\n",
      "4    E11  kritika   14\n",
      "5    E12    Amish   13\n"
     ]
    }
   ],
   "source": [
    "data3 = {\n",
    "    \"Emp ID\":[\"E01\",\"E02\",\"E03\",\"E04\",\"E05\",\"E06\"],\n",
    "    \"Name\":[\"Vashu\",\"Vishakha\",\"Priyansh\",\"Munmun\",\"kittu\",\"namish\"],\n",
    "    \"Age\":[19,18,20,17,15,12]\n",
    "}\n",
    "\n",
    "data4 = {\n",
    "    \"Emp ID\":[\"E07\",\"E08\",\"E09\",\"E10\",\"E11\",\"E12\"],\n",
    "    \"Name\":[\"Ashwin\",\"Arjun\",\"vish\",\"Mannu\",\"kritika\",\"Amish\"],\n",
    "    \"Age\":[11,16,21,8,14,13]\n",
    "}\n",
    "\n",
    "df3 = pd.DataFrame(data3)\n",
    "df4 = pd.DataFrame(data4)\n",
    "print(df3)\n",
    "print()\n",
    "print(df4)"
   ]
  },
  {
   "cell_type": "code",
   "execution_count": 13,
   "id": "d87dfa16",
   "metadata": {},
   "outputs": [
    {
     "name": "stdout",
     "output_type": "stream",
     "text": [
      "  Emp ID      Name  Age\n",
      "0    E01     Vashu   19\n",
      "1    E02  Vishakha   18\n",
      "2    E03  Priyansh   20\n",
      "3    E04    Munmun   17\n",
      "4    E05     kittu   15\n",
      "5    E06    namish   12\n",
      "0    E07    Ashwin   11\n",
      "1    E08     Arjun   16\n",
      "2    E09      vish   21\n",
      "3    E10     Mannu    8\n",
      "4    E11   kritika   14\n",
      "5    E12     Amish   13\n"
     ]
    }
   ],
   "source": [
    "print(pd.concat([df3,df4]))"
   ]
  },
  {
   "cell_type": "code",
   "execution_count": null,
   "id": "88165f89",
   "metadata": {},
   "outputs": [],
   "source": []
  }
 ],
 "metadata": {
  "kernelspec": {
   "display_name": "Python 3",
   "language": "python",
   "name": "python3"
  },
  "language_info": {
   "codemirror_mode": {
    "name": "ipython",
    "version": 3
   },
   "file_extension": ".py",
   "mimetype": "text/x-python",
   "name": "python",
   "nbconvert_exporter": "python",
   "pygments_lexer": "ipython3",
   "version": "3.13.3"
  }
 },
 "nbformat": 4,
 "nbformat_minor": 5
}
