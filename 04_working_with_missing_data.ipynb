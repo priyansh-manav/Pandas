{
 "cells": [
  {
   "cell_type": "code",
   "execution_count": null,
   "id": "3be3024e",
   "metadata": {},
   "outputs": [],
   "source": [
    "import pandas as pd\n",
    "import numpy as np"
   ]
  },
  {
   "cell_type": "code",
   "execution_count": null,
   "id": "b01f1740",
   "metadata": {},
   "outputs": [],
   "source": [
    "data = pd.read_csv(\"company1.csv\")\n",
    "print(data)"
   ]
  },
  {
   "cell_type": "markdown",
   "id": "61b87a59",
   "metadata": {},
   "source": [
    "## Finding missing value"
   ]
  },
  {
   "cell_type": "code",
   "execution_count": null,
   "id": "0fcad68f",
   "metadata": {},
   "outputs": [],
   "source": [
    "print(data.isnull().sum())"
   ]
  },
  {
   "cell_type": "markdown",
   "id": "10545fe5",
   "metadata": {},
   "source": [
    "## Data.dropna() kr ka hum puri puri row khtm kr skta ha jis row m null value hogi"
   ]
  },
  {
   "cell_type": "code",
   "execution_count": null,
   "id": "35e93523",
   "metadata": {},
   "outputs": [],
   "source": [
    "print(data.dropna())"
   ]
  },
  {
   "cell_type": "code",
   "execution_count": null,
   "id": "030fee4a",
   "metadata": {},
   "outputs": [],
   "source": [
    "print(data)"
   ]
  },
  {
   "cell_type": "markdown",
   "id": "79ded989",
   "metadata": {},
   "source": [
    "## replacing null value"
   ]
  },
  {
   "cell_type": "code",
   "execution_count": null,
   "id": "13f49239",
   "metadata": {},
   "outputs": [],
   "source": [
    "print(data.replace(np.nan,20000))"
   ]
  },
  {
   "cell_type": "code",
   "execution_count": null,
   "id": "5dbe6467",
   "metadata": {},
   "outputs": [],
   "source": [
    "data[\"salary\"] = data[\"salary\"].replace(np.nan,24400)\n",
    "print(data)"
   ]
  },
  {
   "cell_type": "code",
   "execution_count": null,
   "id": "9a55c7c6",
   "metadata": {},
   "outputs": [],
   "source": [
    "print(data[\"salary\"].mean())"
   ]
  },
  {
   "cell_type": "code",
   "execution_count": null,
   "id": "307dd291",
   "metadata": {},
   "outputs": [],
   "source": [
    "print(data.fillna(method = \"bfill\"))"
   ]
  },
  {
   "cell_type": "code",
   "execution_count": null,
   "id": "1ef374e2",
   "metadata": {},
   "outputs": [],
   "source": [
    "print(data.fillna(method= \"ffill\"))"
   ]
  },
  {
   "cell_type": "code",
   "execution_count": null,
   "id": "0854e481",
   "metadata": {},
   "outputs": [],
   "source": [
    "print(data.fillna(\"hi\"))"
   ]
  }
 ],
 "metadata": {
  "kernelspec": {
   "display_name": "Python 3",
   "language": "python",
   "name": "python3"
  },
  "language_info": {
   "codemirror_mode": {
    "name": "ipython",
    "version": 3
   },
   "file_extension": ".py",
   "mimetype": "text/x-python",
   "name": "python",
   "nbconvert_exporter": "python",
   "pygments_lexer": "ipython3",
   "version": "3.13.3"
  }
 },
 "nbformat": 4,
 "nbformat_minor": 5
}
