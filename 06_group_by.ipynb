{
 "cells": [
  {
   "cell_type": "code",
   "execution_count": null,
   "id": "589ab245",
   "metadata": {},
   "outputs": [],
   "source": [
    "import numpy as np \n",
    "import pandas as pd"
   ]
  },
  {
   "cell_type": "code",
   "execution_count": null,
   "id": "41827276",
   "metadata": {},
   "outputs": [],
   "source": [
    "data = pd.read_excel(\"ESD.xlsx\")\n",
    "print(data.head(10))"
   ]
  },
  {
   "cell_type": "code",
   "execution_count": 5,
   "id": "094ab315",
   "metadata": {},
   "outputs": [
    {
     "name": "stdout",
     "output_type": "stream",
     "text": [
      "                        EEID\n",
      "Department      Gender      \n",
      "Accounting      Female    53\n",
      "                Male      43\n",
      "Engineering     Female    80\n",
      "                Male      78\n",
      "Finance         Female    69\n",
      "                Male      51\n",
      "Human Resources Female    64\n",
      "                Male      61\n",
      "IT              Female   119\n",
      "                Male     122\n",
      "Marketing       Female    57\n",
      "                Male      63\n",
      "Sales           Female    76\n",
      "                Male      64\n"
     ]
    }
   ],
   "source": [
    "groupby = data.groupby([\"Department\",\"Gender\"]).agg({\"EEID\":\"count\"})\n",
    "print(groupby)"
   ]
  },
  {
   "cell_type": "code",
   "execution_count": 6,
   "id": "ad5ec899",
   "metadata": {},
   "outputs": [
    {
     "name": "stdout",
     "output_type": "stream",
     "text": [
      "                     Age\n",
      "Country                 \n",
      "Brazil         43.654676\n",
      "China          45.389908\n",
      "United States  44.197512\n"
     ]
    }
   ],
   "source": [
    "gp = data.groupby(\"Country\").agg({\"Age\":\"mean\"})\n",
    "print(gp)"
   ]
  },
  {
   "cell_type": "code",
   "execution_count": 8,
   "id": "c4de85a7",
   "metadata": {},
   "outputs": [
    {
     "name": "stdout",
     "output_type": "stream",
     "text": [
      "                      Annual Salary  Age\n",
      "Country       Gender                    \n",
      "Brazil        Female         258426   25\n",
      "              Male           249506   26\n",
      "China         Female         249686   25\n",
      "              Male           257194   25\n",
      "United States Female         258498   25\n",
      "              Male           258081   25\n"
     ]
    }
   ],
   "source": [
    "gp1 = data.groupby([\"Country\",\"Gender\"]).agg({\"Annual Salary\":\"max\",\"Age\":\"min\"})\n",
    "print(gp1)"
   ]
  },
  {
   "cell_type": "code",
   "execution_count": null,
   "id": "527d03e4",
   "metadata": {},
   "outputs": [],
   "source": []
  }
 ],
 "metadata": {
  "kernelspec": {
   "display_name": "Python 3",
   "language": "python",
   "name": "python3"
  },
  "language_info": {
   "codemirror_mode": {
    "name": "ipython",
    "version": 3
   },
   "file_extension": ".py",
   "mimetype": "text/x-python",
   "name": "python",
   "nbconvert_exporter": "python",
   "pygments_lexer": "ipython3",
   "version": "3.13.3"
  }
 },
 "nbformat": 4,
 "nbformat_minor": 5
}
