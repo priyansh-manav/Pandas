{
 "cells": [
  {
   "cell_type": "code",
   "execution_count": null,
   "id": "2fe265d2",
   "metadata": {},
   "outputs": [],
   "source": [
    "import numpy as np\n",
    "import pandas as pd"
   ]
  },
  {
   "cell_type": "code",
   "execution_count": null,
   "id": "aa9e1a2a",
   "metadata": {},
   "outputs": [],
   "source": [
    "data = pd.read_excel(\"ESD.xlsx\")\n",
    "# print(data)\n",
    "\n",
    "data.loc[(data[\"Bonus %\"] == 0),\"GetBonus\"] = \"no bonus\"\n",
    "data.loc[(data[\"Bonus %\"] > 0 ,\"GetBonus\")] = \"bonus\"\n",
    "print(data.head(10))\n"
   ]
  }
 ],
 "metadata": {
  "kernelspec": {
   "display_name": "Python 3",
   "language": "python",
   "name": "python3"
  },
  "language_info": {
   "codemirror_mode": {
    "name": "ipython",
    "version": 3
   },
   "file_extension": ".py",
   "mimetype": "text/x-python",
   "name": "python",
   "nbconvert_exporter": "python",
   "pygments_lexer": "ipython3",
   "version": "3.13.3"
  }
 },
 "nbformat": 4,
 "nbformat_minor": 5
}
